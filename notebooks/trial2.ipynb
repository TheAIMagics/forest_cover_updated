{
 "cells": [
  {
   "cell_type": "code",
   "execution_count": 1,
   "metadata": {},
   "outputs": [],
   "source": [
    "from collections import namedtuple\n",
    "import os\n",
    "os.chdir(\"../\")"
   ]
  },
  {
   "cell_type": "code",
   "execution_count": 2,
   "metadata": {},
   "outputs": [],
   "source": [
    "DataIngestionConfig = namedtuple(\"DataIngestionConfig\",[\n",
    "    \"root_dir\",\n",
    "    \"source_URL\",\n",
    "    \"local_data_file\",\n",
    "    \"unzip_dir\"\n",
    "])"
   ]
  },
  {
   "cell_type": "code",
   "execution_count": 3,
   "metadata": {},
   "outputs": [],
   "source": [
    "from src.forest.constant import CONFIG_FILE_PATH\n",
    "from src.forest.utils.main_utils import MainUtils\n",
    "from src.forest.logger import logging\n",
    "import shutil,os\n",
    "import pandas as pd\n",
    "from zipfile import ZipFile"
   ]
  },
  {
   "cell_type": "code",
   "execution_count": 4,
   "metadata": {},
   "outputs": [],
   "source": [
    "class ConfigurationManager:\n",
    "    def __init__(self,config_filepath = CONFIG_FILE_PATH):\n",
    "        self.config = MainUtils.read_yaml_file(MainUtils, filename=config_filepath)\n",
    "\n",
    "    def get_data_ingestion_config(self) -> DataIngestionConfig:\n",
    "\n",
    "        config = self.config['data_ingestion']\n",
    "\n",
    "        MainUtils.create_directories([config[\"root_dir\"]])\n",
    "\n",
    "        data_ingestion_config = DataIngestionConfig(\n",
    "            root_dir = config[\"root_dir\"],\n",
    "            source_URL = config[\"source_URL\"],\n",
    "            local_data_file = config[\"local_data_file\"],\n",
    "            unzip_dir = config[\"unzip_dir\"]\n",
    "        )\n",
    "\n",
    "        return data_ingestion_config"
   ]
  },
  {
   "cell_type": "code",
   "execution_count": 5,
   "metadata": {},
   "outputs": [],
   "source": [
    "class DataIngestion:\n",
    "    def __init__(self, config: DataIngestionConfig):\n",
    "        self.config = config\n",
    "\n",
    "    def download_file(self):\n",
    "        print(self.config)\n",
    "        if not os.path.exists(self.config.local_data_file):\n",
    "            logging.info(\"Download started...\")\n",
    "            shutil.copy(self.config.source_URL, self.config.root_dir)\n",
    "        else:\n",
    "            logging.info(f\"File already exists\")\n",
    "    \n",
    "    def extract_zipfile(self):\n",
    "        file = ZipFile(self.config.local_data_file)\n",
    "        if not os.path.exists(self.config.unzip_dir):\n",
    "            file.extractall(path=self.config.unzip_dir)\n",
    "        else:\n",
    "            logging.info(f\"File already exists of size\")\n",
    "\n",
    "    def get_dataframe(self):\n",
    "        target_filepath = os.path.join(self.config.unzip_dir+'/covtype.csv')\n",
    "        df = pd.read_csv(target_filepath)\n",
    "        return df\n",
    "\n",
    "    \n"
   ]
  },
  {
   "cell_type": "code",
   "execution_count": 6,
   "metadata": {},
   "outputs": [
    {
     "name": "stdout",
     "output_type": "stream",
     "text": [
      "DataIngestionConfig(root_dir='artifacts/data_ingestion', source_URL='covtype.zip', local_data_file='artifacts/data_ingestion/covtype.zip', unzip_dir='artifacts/data_ingestion')\n",
      "artifacts/data_ingestion/covtype.csv\n",
      "(581012, 55)\n"
     ]
    }
   ],
   "source": [
    "try:\n",
    "    config = ConfigurationManager()\n",
    "    data_ingestion_config = config.get_data_ingestion_config()\n",
    "    data_ingestion = DataIngestion( config= data_ingestion_config)\n",
    "    data_ingestion.download_file()\n",
    "    data_ingestion.extract_zipfile()\n",
    "    data_ingestion.get_dataframe()\n",
    "except Exception as e:\n",
    "    raise e"
   ]
  },
  {
   "cell_type": "code",
   "execution_count": null,
   "metadata": {},
   "outputs": [],
   "source": []
  }
 ],
 "metadata": {
  "kernelspec": {
   "display_name": "Python 3.7.13",
   "language": "python",
   "name": "python3"
  },
  "language_info": {
   "codemirror_mode": {
    "name": "ipython",
    "version": 3
   },
   "file_extension": ".py",
   "mimetype": "text/x-python",
   "name": "python",
   "nbconvert_exporter": "python",
   "pygments_lexer": "ipython3",
   "version": "3.7.13"
  },
  "orig_nbformat": 4,
  "vscode": {
   "interpreter": {
    "hash": "d82350f30243aacb5ed973a9050c0543846554f27ea18f02c9d90040834d41ad"
   }
  }
 },
 "nbformat": 4,
 "nbformat_minor": 2
}
